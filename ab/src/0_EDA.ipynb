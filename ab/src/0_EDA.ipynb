{
 "cells": [
  {
   "metadata": {},
   "cell_type": "markdown",
   "source": [
    "\n",
    "# TL;DR\n",
    "\n",
    "1. Target is mostly a mixture of two normal distributions\n",
    "    1. Most of the targets are constant.\n",
    "    1. Could be helpful to solve classification first\n",
    "    2. To extract exact distribution, we can use Gaussian Mixture clustering\n",
    "2. Targets are stable in time in counts, meaans and stds.\n",
    "3. No Outliers -> The metrics are MSE, MAE, WAPE\n",
    "4. __The data is too sinthetic -> The solution can be synthetic (non-productionalizable) too__ \n",
    "5. TODO\n",
    "   1. Get Holdout OOT Dataset\n",
    "   2. Develop baseline\n",
    "      1. Log metrics\n",
    "      2. Develop Universal testing pipeline\n",
    "   3. Develop CLF Model\n",
    "      3. CLF Metrics - same as for REGR\n",
    "   4. Develop REGR Model as residuals of CLF  "
   ],
   "id": "cd31ed5e928d7030"
  },
  {
   "metadata": {},
   "cell_type": "markdown",
   "source": "# Definitions",
   "id": "fda1e4a40d1e81ad"
  },
  {
   "metadata": {
    "ExecuteTime": {
     "end_time": "2024-11-04T11:56:07.831833Z",
     "start_time": "2024-11-04T11:56:07.829969Z"
    }
   },
   "cell_type": "code",
   "source": [
    "from pathlib import Path\n",
    "\n",
    "import pandas as pd\n",
    "import seaborn as sns\n",
    "import matplotlib.pyplot as plt\n",
    "import numpy as np\n",
    "from scipy import stats"
   ],
   "id": "dcd60208c8e2a228",
   "outputs": [],
   "execution_count": 1
  },
  {
   "metadata": {
    "ExecuteTime": {
     "end_time": "2024-11-04T11:56:07.855366Z",
     "start_time": "2024-11-04T11:56:07.849849Z"
    }
   },
   "cell_type": "code",
   "source": [
    "data_path = Path('..', 'data')\n",
    "data_path.exists()"
   ],
   "id": "19cae3f379ad7f0a",
   "outputs": [
    {
     "data": {
      "text/plain": [
       "True"
      ]
     },
     "execution_count": 2,
     "metadata": {},
     "output_type": "execute_result"
    }
   ],
   "execution_count": 2
  },
  {
   "metadata": {
    "ExecuteTime": {
     "end_time": "2024-11-04T11:56:07.966319Z",
     "start_time": "2024-11-04T11:56:07.964280Z"
    }
   },
   "cell_type": "code",
   "source": "PERCENTILES = [0.01, 0.05, 0.25, 0.5, 0.75, 0.95, 0.99]",
   "id": "4b62d213eabd9986",
   "outputs": [],
   "execution_count": 3
  },
  {
   "metadata": {
    "ExecuteTime": {
     "end_time": "2024-11-04T11:56:07.971857Z",
     "start_time": "2024-11-04T11:56:07.969793Z"
    }
   },
   "cell_type": "code",
   "source": "np.random.seed(648)",
   "id": "5abc86f23f9927eb",
   "outputs": [],
   "execution_count": 4
  },
  {
   "metadata": {},
   "cell_type": "markdown",
   "source": "# Data",
   "id": "d003b3888fb4e34c"
  },
  {
   "metadata": {
    "ExecuteTime": {
     "end_time": "2024-11-04T11:56:09.130691Z",
     "start_time": "2024-11-04T11:56:07.982573Z"
    }
   },
   "cell_type": "code",
   "source": [
    "url = 'https://docs.google.com/spreadsheets/d/1U7WJihimU4nSjv9QJR7mdj2eUvSY_iHVq0FiC_TlnSs/edit?usp=sharing'\n",
    "sheet_id = url.split('/')[-2]\n",
    "dwn_url = f\"https://docs.google.com/spreadsheets/d/{sheet_id}/gviz/tq?tqx=out:csv\"\n",
    "\n",
    "df = pd.read_csv(dwn_url, on_bad_lines='warn')\n",
    "drop_cols = df.columns[df.columns.str.contains('Unnamed')]\n",
    "df.drop(columns=drop_cols, inplace=True)\n",
    "df.info(verbose=True, show_counts=True)\n",
    "df.head()"
   ],
   "id": "e0af46f7d51bae33",
   "outputs": [
    {
     "name": "stdout",
     "output_type": "stream",
     "text": [
      "<class 'pandas.core.frame.DataFrame'>\n",
      "RangeIndex: 10000 entries, 0 to 9999\n",
      "Data columns (total 11 columns):\n",
      " #   Column              Non-Null Count  Dtype \n",
      "---  ------              --------------  ----- \n",
      " 0   user_id             10000 non-null  int64 \n",
      " 1   created_date        10000 non-null  object\n",
      " 2   age_group           10000 non-null  object\n",
      " 3   install_date        10000 non-null  object\n",
      " 4   channel             10000 non-null  object\n",
      " 5   game_type           10000 non-null  object\n",
      " 6   location            10000 non-null  object\n",
      " 7   last_activity_date  10000 non-null  object\n",
      " 8   cohort_age          10000 non-null  int64 \n",
      " 9   group               10000 non-null  object\n",
      " 10  converted           10000 non-null  int64 \n",
      "dtypes: int64(3), object(8)\n",
      "memory usage: 859.5+ KB\n"
     ]
    },
    {
     "data": {
      "text/plain": [
       "   user_id         created_date age_group         install_date  channel  \\\n",
       "0        0  2024-09-09 13:34:14     35-44  2024-09-03 13:34:14  Organic   \n",
       "1        1  2024-08-27 13:34:14     18-24  2024-08-19 13:34:14      Ads   \n",
       "2        2  2024-08-18 13:34:14     25-34  2024-08-11 13:34:14    Email   \n",
       "3        3  2024-09-01 13:34:14     25-34  2024-08-28 13:34:14    Email   \n",
       "4        4  2024-09-05 13:34:14     18-24  2024-08-28 13:34:14      Ads   \n",
       "\n",
       "   game_type       location   last_activity_date  cohort_age group  converted  \n",
       "0     Puzzle         Europe  2024-09-12 13:34:14           1     A          1  \n",
       "1     Action      Australia  2024-09-10 13:34:14           6     A          0  \n",
       "2  Adventure  North America  2024-09-14 13:34:14          23     B          1  \n",
       "3     Action         Europe  2024-09-08 13:34:14          16     B          1  \n",
       "4     Action           Asia  2024-09-12 13:34:14          25     B          1  "
      ],
      "text/html": [
       "<div>\n",
       "<style scoped>\n",
       "    .dataframe tbody tr th:only-of-type {\n",
       "        vertical-align: middle;\n",
       "    }\n",
       "\n",
       "    .dataframe tbody tr th {\n",
       "        vertical-align: top;\n",
       "    }\n",
       "\n",
       "    .dataframe thead th {\n",
       "        text-align: right;\n",
       "    }\n",
       "</style>\n",
       "<table border=\"1\" class=\"dataframe\">\n",
       "  <thead>\n",
       "    <tr style=\"text-align: right;\">\n",
       "      <th></th>\n",
       "      <th>user_id</th>\n",
       "      <th>created_date</th>\n",
       "      <th>age_group</th>\n",
       "      <th>install_date</th>\n",
       "      <th>channel</th>\n",
       "      <th>game_type</th>\n",
       "      <th>location</th>\n",
       "      <th>last_activity_date</th>\n",
       "      <th>cohort_age</th>\n",
       "      <th>group</th>\n",
       "      <th>converted</th>\n",
       "    </tr>\n",
       "  </thead>\n",
       "  <tbody>\n",
       "    <tr>\n",
       "      <th>0</th>\n",
       "      <td>0</td>\n",
       "      <td>2024-09-09 13:34:14</td>\n",
       "      <td>35-44</td>\n",
       "      <td>2024-09-03 13:34:14</td>\n",
       "      <td>Organic</td>\n",
       "      <td>Puzzle</td>\n",
       "      <td>Europe</td>\n",
       "      <td>2024-09-12 13:34:14</td>\n",
       "      <td>1</td>\n",
       "      <td>A</td>\n",
       "      <td>1</td>\n",
       "    </tr>\n",
       "    <tr>\n",
       "      <th>1</th>\n",
       "      <td>1</td>\n",
       "      <td>2024-08-27 13:34:14</td>\n",
       "      <td>18-24</td>\n",
       "      <td>2024-08-19 13:34:14</td>\n",
       "      <td>Ads</td>\n",
       "      <td>Action</td>\n",
       "      <td>Australia</td>\n",
       "      <td>2024-09-10 13:34:14</td>\n",
       "      <td>6</td>\n",
       "      <td>A</td>\n",
       "      <td>0</td>\n",
       "    </tr>\n",
       "    <tr>\n",
       "      <th>2</th>\n",
       "      <td>2</td>\n",
       "      <td>2024-08-18 13:34:14</td>\n",
       "      <td>25-34</td>\n",
       "      <td>2024-08-11 13:34:14</td>\n",
       "      <td>Email</td>\n",
       "      <td>Adventure</td>\n",
       "      <td>North America</td>\n",
       "      <td>2024-09-14 13:34:14</td>\n",
       "      <td>23</td>\n",
       "      <td>B</td>\n",
       "      <td>1</td>\n",
       "    </tr>\n",
       "    <tr>\n",
       "      <th>3</th>\n",
       "      <td>3</td>\n",
       "      <td>2024-09-01 13:34:14</td>\n",
       "      <td>25-34</td>\n",
       "      <td>2024-08-28 13:34:14</td>\n",
       "      <td>Email</td>\n",
       "      <td>Action</td>\n",
       "      <td>Europe</td>\n",
       "      <td>2024-09-08 13:34:14</td>\n",
       "      <td>16</td>\n",
       "      <td>B</td>\n",
       "      <td>1</td>\n",
       "    </tr>\n",
       "    <tr>\n",
       "      <th>4</th>\n",
       "      <td>4</td>\n",
       "      <td>2024-09-05 13:34:14</td>\n",
       "      <td>18-24</td>\n",
       "      <td>2024-08-28 13:34:14</td>\n",
       "      <td>Ads</td>\n",
       "      <td>Action</td>\n",
       "      <td>Asia</td>\n",
       "      <td>2024-09-12 13:34:14</td>\n",
       "      <td>25</td>\n",
       "      <td>B</td>\n",
       "      <td>1</td>\n",
       "    </tr>\n",
       "  </tbody>\n",
       "</table>\n",
       "</div>"
      ]
     },
     "execution_count": 5,
     "metadata": {},
     "output_type": "execute_result"
    }
   ],
   "execution_count": 5
  },
  {
   "metadata": {},
   "cell_type": "markdown",
   "source": "# Analysis",
   "id": "9483b7792248aa5c"
  },
  {
   "metadata": {
    "ExecuteTime": {
     "end_time": "2024-11-04T11:56:09.298664Z",
     "start_time": "2024-11-04T11:56:09.287579Z"
    }
   },
   "cell_type": "code",
   "source": "df.groupby('group').converted.describe(percentiles=PERCENTILES)",
   "id": "6ec921043ebc01c4",
   "outputs": [
    {
     "data": {
      "text/plain": [
       "        count      mean       std  min   1%   5%  25%  50%  75%  95%  99%  max\n",
       "group                                                                         \n",
       "A      4926.0  0.298417  0.457610  0.0  0.0  0.0  0.0  0.0  1.0  1.0  1.0  1.0\n",
       "B      5074.0  0.513205  0.499875  0.0  0.0  0.0  0.0  1.0  1.0  1.0  1.0  1.0"
      ],
      "text/html": [
       "<div>\n",
       "<style scoped>\n",
       "    .dataframe tbody tr th:only-of-type {\n",
       "        vertical-align: middle;\n",
       "    }\n",
       "\n",
       "    .dataframe tbody tr th {\n",
       "        vertical-align: top;\n",
       "    }\n",
       "\n",
       "    .dataframe thead th {\n",
       "        text-align: right;\n",
       "    }\n",
       "</style>\n",
       "<table border=\"1\" class=\"dataframe\">\n",
       "  <thead>\n",
       "    <tr style=\"text-align: right;\">\n",
       "      <th></th>\n",
       "      <th>count</th>\n",
       "      <th>mean</th>\n",
       "      <th>std</th>\n",
       "      <th>min</th>\n",
       "      <th>1%</th>\n",
       "      <th>5%</th>\n",
       "      <th>25%</th>\n",
       "      <th>50%</th>\n",
       "      <th>75%</th>\n",
       "      <th>95%</th>\n",
       "      <th>99%</th>\n",
       "      <th>max</th>\n",
       "    </tr>\n",
       "    <tr>\n",
       "      <th>group</th>\n",
       "      <th></th>\n",
       "      <th></th>\n",
       "      <th></th>\n",
       "      <th></th>\n",
       "      <th></th>\n",
       "      <th></th>\n",
       "      <th></th>\n",
       "      <th></th>\n",
       "      <th></th>\n",
       "      <th></th>\n",
       "      <th></th>\n",
       "      <th></th>\n",
       "    </tr>\n",
       "  </thead>\n",
       "  <tbody>\n",
       "    <tr>\n",
       "      <th>A</th>\n",
       "      <td>4926.0</td>\n",
       "      <td>0.298417</td>\n",
       "      <td>0.457610</td>\n",
       "      <td>0.0</td>\n",
       "      <td>0.0</td>\n",
       "      <td>0.0</td>\n",
       "      <td>0.0</td>\n",
       "      <td>0.0</td>\n",
       "      <td>1.0</td>\n",
       "      <td>1.0</td>\n",
       "      <td>1.0</td>\n",
       "      <td>1.0</td>\n",
       "    </tr>\n",
       "    <tr>\n",
       "      <th>B</th>\n",
       "      <td>5074.0</td>\n",
       "      <td>0.513205</td>\n",
       "      <td>0.499875</td>\n",
       "      <td>0.0</td>\n",
       "      <td>0.0</td>\n",
       "      <td>0.0</td>\n",
       "      <td>0.0</td>\n",
       "      <td>1.0</td>\n",
       "      <td>1.0</td>\n",
       "      <td>1.0</td>\n",
       "      <td>1.0</td>\n",
       "      <td>1.0</td>\n",
       "    </tr>\n",
       "  </tbody>\n",
       "</table>\n",
       "</div>"
      ]
     },
     "execution_count": 6,
     "metadata": {},
     "output_type": "execute_result"
    }
   ],
   "execution_count": 6
  },
  {
   "metadata": {
    "ExecuteTime": {
     "end_time": "2024-11-04T11:56:26.155338Z",
     "start_time": "2024-11-04T11:56:26.148219Z"
    }
   },
   "cell_type": "code",
   "source": "df.groupby(['location', 'group']).converted.mean()",
   "id": "cd9266eaf816c338",
   "outputs": [
    {
     "data": {
      "text/plain": [
       "location       group\n",
       "Asia           A        0.301495\n",
       "               B        0.499199\n",
       "Australia      A        0.298425\n",
       "               B        0.538757\n",
       "Europe         A        0.283034\n",
       "               B        0.497699\n",
       "North America  A        0.312020\n",
       "               B        0.516817\n",
       "Name: converted, dtype: float64"
      ]
     },
     "execution_count": 8,
     "metadata": {},
     "output_type": "execute_result"
    }
   ],
   "execution_count": 8
  },
  {
   "metadata": {
    "ExecuteTime": {
     "end_time": "2024-11-03T17:04:04.945768Z",
     "start_time": "2024-11-03T17:04:04.784153Z"
    }
   },
   "cell_type": "code",
   "source": "sns.kdeplot(df, x='converted', hue='group', cut=0)",
   "id": "d1425aa3dccb098c",
   "outputs": [
    {
     "data": {
      "text/plain": [
       "<Axes: xlabel='converted', ylabel='Density'>"
      ]
     },
     "execution_count": 6,
     "metadata": {},
     "output_type": "execute_result"
    },
    {
     "data": {
      "text/plain": [
       "<Figure size 640x480 with 1 Axes>"
      ],
      "image/png": "[encoded data removed]"
     },
     "metadata": {},
     "output_type": "display_data"
    }
   ],
   "execution_count": 6
  },
  {
   "metadata": {
    "ExecuteTime": {
     "end_time": "2024-11-03T17:06:10.074261Z",
     "start_time": "2024-11-03T17:06:10.058692Z"
    }
   },
   "cell_type": "code",
   "source": [
    "def get_bootstrap(a, b, n=1000):\n",
    "    a = np.random.choice(a, (n, len(a)), replace=True)\n",
    "    b = np.random.choice(b, (n, len(b)), replace=True)\n",
    "    return a.mean(axis=1), b.mean(axis=1)"
   ],
   "id": "c10eee679af87b9c",
   "outputs": [],
   "execution_count": 10
  },
  {
   "metadata": {
    "ExecuteTime": {
     "end_time": "2024-11-03T17:06:34.613126Z",
     "start_time": "2024-11-03T17:06:34.439736Z"
    }
   },
   "cell_type": "code",
   "source": [
    "a, b = get_bootstrap(df[df.group == 'A'].converted, df[df.group == 'B'].converted)\n",
    "a.shape, b.shape"
   ],
   "id": "171f7f13a351cb40",
   "outputs": [
    {
     "data": {
      "text/plain": [
       "((1000,), (1000,))"
      ]
     },
     "execution_count": 11,
     "metadata": {},
     "output_type": "execute_result"
    }
   ],
   "execution_count": 11
  },
  {
   "metadata": {
    "ExecuteTime": {
     "end_time": "2024-11-03T17:07:06.656927Z",
     "start_time": "2024-11-03T17:07:06.545086Z"
    }
   },
   "cell_type": "code",
   "source": [
    "sns.kdeplot(a, cut=0, label='A')\n",
    "sns.kdeplot(b, cut=0, label='B')\n",
    "plt.legend()"
   ],
   "id": "9c9d5fad87a8b76b",
   "outputs": [
    {
     "data": {
      "text/plain": [
       "<matplotlib.legend.Legend at 0x138591550>"
      ]
     },
     "execution_count": 13,
     "metadata": {},
     "output_type": "execute_result"
    },
    {
     "data": {
      "text/plain": [
       "<Figure size 640x480 with 1 Axes>"
      ],
      "image/png": "[encoded data removed]"
     },
     "metadata": {},
     "output_type": "display_data"
    }
   ],
   "execution_count": 13
  },
  {
   "metadata": {
    "ExecuteTime": {
     "end_time": "2024-11-03T17:08:33.659714Z",
     "start_time": "2024-11-03T17:08:33.635663Z"
    }
   },
   "cell_type": "code",
   "source": "df.cohort_age.describe()",
   "id": "99d087437aa158c9",
   "outputs": [
    {
     "data": {
      "text/plain": [
       "count    10000.000000\n",
       "mean        14.980300\n",
       "std          8.376069\n",
       "min          1.000000\n",
       "25%          8.000000\n",
       "50%         15.000000\n",
       "75%         22.000000\n",
       "max         29.000000\n",
       "Name: cohort_age, dtype: float64"
      ]
     },
     "execution_count": 14,
     "metadata": {},
     "output_type": "execute_result"
    }
   ],
   "execution_count": 14
  },
  {
   "metadata": {
    "ExecuteTime": {
     "end_time": "2024-11-03T17:09:46.300458Z",
     "start_time": "2024-11-03T17:09:46.281331Z"
    }
   },
   "cell_type": "code",
   "source": "stats.ttest_ind(df[df.group == 'A'].converted, df[df.group == 'B'].converted)",
   "id": "957f3b63c629dbf7",
   "outputs": [
    {
     "data": {
      "text/plain": [
       "TtestResult(statistic=np.float64(-22.39365244788215), pvalue=np.float64(2.0437553625034563e-108), df=np.float64(9998.0))"
      ]
     },
     "execution_count": 17,
     "metadata": {},
     "output_type": "execute_result"
    }
   ],
   "execution_count": 17
  },
  {
   "metadata": {
    "ExecuteTime": {
     "end_time": "2024-11-03T18:12:59.803700Z",
     "start_time": "2024-11-03T18:12:59.758539Z"
    }
   },
   "cell_type": "code",
   "source": "categories = ['age_group', 'channel', 'game_type', 'location']",
   "id": "7de30cef97177c91",
   "outputs": [],
   "execution_count": 18
  },
  {
   "metadata": {
    "ExecuteTime": {
     "end_time": "2024-11-03T18:13:09.201904Z",
     "start_time": "2024-11-03T18:13:09.142264Z"
    }
   },
   "cell_type": "code",
   "source": "df[categories].nunique()",
   "id": "638f46dceeb624b4",
   "outputs": [
    {
     "data": {
      "text/plain": [
       "age_group    4\n",
       "channel      4\n",
       "game_type    3\n",
       "location     4\n",
       "dtype: int64"
      ]
     },
     "execution_count": 19,
     "metadata": {},
     "output_type": "execute_result"
    }
   ],
   "execution_count": 19
  },
  {
   "metadata": {
    "ExecuteTime": {
     "end_time": "2024-11-03T18:15:22.070192Z",
     "start_time": "2024-11-03T18:15:22.028103Z"
    }
   },
   "cell_type": "code",
   "source": "df[categories + ['group']].value_counts().sort_index()",
   "id": "32d14896f56bb25d",
   "outputs": [
    {
     "data": {
      "text/plain": [
       "age_group  channel       game_type  location       group\n",
       "18-24      Ads           Action     Asia           A        19\n",
       "                                                   B        21\n",
       "                                    Australia      A        21\n",
       "                                                   B        36\n",
       "                                    Europe         A        22\n",
       "                                                            ..\n",
       "45+        Social Media  Puzzle     Australia      B        26\n",
       "                                    Europe         A        18\n",
       "                                                   B        19\n",
       "                                    North America  A        26\n",
       "                                                   B        32\n",
       "Name: count, Length: 384, dtype: int64"
      ]
     },
     "execution_count": 25,
     "metadata": {},
     "output_type": "execute_result"
    }
   ],
   "execution_count": 25
  },
  {
   "metadata": {
    "ExecuteTime": {
     "end_time": "2024-11-03T17:02:36.741474Z",
     "start_time": "2024-11-03T17:02:36.740174Z"
    }
   },
   "cell_type": "code",
   "source": "",
   "id": "53f14f1bfd676574",
   "outputs": [],
   "execution_count": null
  }
 ],
 "metadata": {
  "kernelspec": {
   "display_name": "Python 3",
   "language": "python",
   "name": "python3"
  },
  "language_info": {
   "codemirror_mode": {
    "name": "ipython",
    "version": 2
   },
   "file_extension": ".py",
   "mimetype": "text/x-python",
   "name": "python",
   "nbconvert_exporter": "python",
   "pygments_lexer": "ipython2",
   "version": "2.7.6"
  }
 },
 "nbformat": 4,
 "nbformat_minor": 5
}
