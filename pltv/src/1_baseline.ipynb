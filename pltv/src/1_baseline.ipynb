{
 "cells": [
  {
   "metadata": {},
   "cell_type": "markdown",
   "source": [
    "# TL;DR\n",
    "\n",
    "1. The goal is of the baseline is to establish validation workflow and to have a reference point for future models.\n",
    "2. The `Median` Model shows better results than the `Mean` Model. "
   ],
   "id": "ef10546acc9dcc53"
  },
  {
   "metadata": {},
   "cell_type": "markdown",
   "source": "# Definitions",
   "id": "ea844aac4d2a056f"
  },
  {
   "metadata": {
    "ExecuteTime": {
     "end_time": "2024-11-03T12:56:40.185060Z",
     "start_time": "2024-11-03T12:56:39.527085Z"
    }
   },
   "cell_type": "code",
   "source": [
    "import logging\n",
    "from dataclasses import dataclass, field\n",
    "from pathlib import Path\n",
    "from typing import Dict, Any\n",
    "\n",
    "import pandas as pd\n",
    "\n",
    "from pltv.src.validate import Validator\n",
    "from validate import Model"
   ],
   "id": "87cbab9120ed4fbe",
   "outputs": [],
   "execution_count": 1
  },
  {
   "metadata": {
    "ExecuteTime": {
     "end_time": "2024-11-03T12:56:40.197745Z",
     "start_time": "2024-11-03T12:56:40.192953Z"
    }
   },
   "cell_type": "code",
   "source": [
    "data_path = Path('..', 'data')\n",
    "data_path.exists()"
   ],
   "id": "de62ae43a7927e58",
   "outputs": [
    {
     "data": {
      "text/plain": [
       "True"
      ]
     },
     "execution_count": 2,
     "metadata": {},
     "output_type": "execute_result"
    }
   ],
   "execution_count": 2
  },
  {
   "metadata": {
    "ExecuteTime": {
     "end_time": "2024-11-03T12:56:40.320398Z",
     "start_time": "2024-11-03T12:56:40.318797Z"
    }
   },
   "cell_type": "code",
   "source": "targets = ['ltv_day1', 'ltv_day7', 'ltv_day30', 'ltv_day180']",
   "id": "d3f02c78774f7374",
   "outputs": [],
   "execution_count": 3
  },
  {
   "metadata": {
    "ExecuteTime": {
     "end_time": "2024-11-03T12:56:40.329262Z",
     "start_time": "2024-11-03T12:56:40.327727Z"
    }
   },
   "cell_type": "code",
   "source": "logging.basicConfig(level=logging.INFO)",
   "id": "f7b71abfbade4a79",
   "outputs": [],
   "execution_count": 4
  },
  {
   "metadata": {},
   "cell_type": "markdown",
   "source": "# Data",
   "id": "e75958a91a8390a2"
  },
  {
   "metadata": {
    "ExecuteTime": {
     "end_time": "2024-11-03T12:56:40.361228Z",
     "start_time": "2024-11-03T12:56:40.337839Z"
    }
   },
   "cell_type": "code",
   "source": [
    "train = pd.read_feather(data_path.joinpath('train.feather'))\n",
    "train.info(verbose=True, show_counts=True)\n",
    "train.head()"
   ],
   "id": "e2eabe2f94f4718f",
   "outputs": [
    {
     "name": "stdout",
     "output_type": "stream",
     "text": [
      "<class 'pandas.core.frame.DataFrame'>\n",
      "RangeIndex: 6994 entries, 0 to 6993\n",
      "Data columns (total 22 columns):\n",
      " #   Column                  Non-Null Count  Dtype         \n",
      "---  ------                  --------------  -----         \n",
      " 0   user_id                 6994 non-null   object        \n",
      " 1   location                6994 non-null   object        \n",
      " 2   gender                  6994 non-null   object        \n",
      " 3   acquisition_date        6994 non-null   datetime64[ns]\n",
      " 4   acquisition_channel     6994 non-null   object        \n",
      " 5   eCPM                    6994 non-null   float64       \n",
      " 6   total_time_spent        6994 non-null   float64       \n",
      " 7   avg_session_time        6994 non-null   float64       \n",
      " 8   num_games_played        6994 non-null   int64         \n",
      " 9   favorite_game_genre     6994 non-null   object        \n",
      " 10  total_rewards           6994 non-null   int64         \n",
      " 11  total_coins             6994 non-null   int64         \n",
      " 12  cashouts                6994 non-null   float64       \n",
      " 13  logins_past_7_days      6994 non-null   int64         \n",
      " 14  total_logins            6994 non-null   int64         \n",
      " 15  avg_daily_logins        6994 non-null   float64       \n",
      " 16  notifications_received  6994 non-null   int64         \n",
      " 17  ads_watched             6994 non-null   int64         \n",
      " 18  ltv_day1                6994 non-null   float64       \n",
      " 19  ltv_day7                6994 non-null   float64       \n",
      " 20  ltv_day30               6994 non-null   float64       \n",
      " 21  ltv_day180              6994 non-null   float64       \n",
      "dtypes: datetime64[ns](1), float64(9), int64(7), object(5)\n",
      "memory usage: 1.2+ MB\n"
     ]
    },
    {
     "data": {
      "text/plain": [
       "   user_id   location  gender acquisition_date acquisition_channel      eCPM  \\\n",
       "0  u000000  Australia  Female       2024-04-08          In-App Ads  1.341458   \n",
       "1  u000001     France   Other       2023-09-28          In-App Ads  1.203097   \n",
       "2  u000002     Brazil    Male       2024-04-24            Referral  0.395693   \n",
       "3  u000003  Australia  Female       2023-10-17          In-App Ads  0.560207   \n",
       "4  u000004    Germany  Female       2023-12-15               Email  3.318075   \n",
       "\n",
       "   total_time_spent  avg_session_time  num_games_played favorite_game_genre  \\\n",
       "0        128.150370         30.236412                65              Sports   \n",
       "1         34.064418          9.079346                97              Puzzle   \n",
       "2         96.559973         31.423285                97              Puzzle   \n",
       "3        691.653864         19.581271                19              Puzzle   \n",
       "4        411.067262         19.680246                 7              Action   \n",
       "\n",
       "   ...    cashouts  logins_past_7_days  total_logins  avg_daily_logins  \\\n",
       "0  ...  173.913497                  12           668          7.571228   \n",
       "1  ...   85.865826                   8           794          7.062567   \n",
       "2  ...  195.228450                  13           520          4.848931   \n",
       "3  ...  154.958251                  14           720          2.716627   \n",
       "4  ...   81.093215                  14           175          3.753371   \n",
       "\n",
       "   notifications_received  ads_watched  ltv_day1  ltv_day7  ltv_day30  \\\n",
       "0                      54          131  2.500000       6.7  15.000000   \n",
       "1                      22          336  2.500000       6.7  15.000000   \n",
       "2                      54          182  2.311357       6.7  14.578598   \n",
       "3                       7          404  2.500000       6.7  15.000000   \n",
       "4                      13           66  2.194381       6.7  15.000000   \n",
       "\n",
       "   ltv_day180  \n",
       "0        40.0  \n",
       "1        40.0  \n",
       "2        25.0  \n",
       "3        40.0  \n",
       "4        25.0  \n",
       "\n",
       "[5 rows x 22 columns]"
      ],
      "text/html": [
       "<div>\n",
       "<style scoped>\n",
       "    .dataframe tbody tr th:only-of-type {\n",
       "        vertical-align: middle;\n",
       "    }\n",
       "\n",
       "    .dataframe tbody tr th {\n",
       "        vertical-align: top;\n",
       "    }\n",
       "\n",
       "    .dataframe thead th {\n",
       "        text-align: right;\n",
       "    }\n",
       "</style>\n",
       "<table border=\"1\" class=\"dataframe\">\n",
       "  <thead>\n",
       "    <tr style=\"text-align: right;\">\n",
       "      <th></th>\n",
       "      <th>user_id</th>\n",
       "      <th>location</th>\n",
       "      <th>gender</th>\n",
       "      <th>acquisition_date</th>\n",
       "      <th>acquisition_channel</th>\n",
       "      <th>eCPM</th>\n",
       "      <th>total_time_spent</th>\n",
       "      <th>avg_session_time</th>\n",
       "      <th>num_games_played</th>\n",
       "      <th>favorite_game_genre</th>\n",
       "      <th>...</th>\n",
       "      <th>cashouts</th>\n",
       "      <th>logins_past_7_days</th>\n",
       "      <th>total_logins</th>\n",
       "      <th>avg_daily_logins</th>\n",
       "      <th>notifications_received</th>\n",
       "      <th>ads_watched</th>\n",
       "      <th>ltv_day1</th>\n",
       "      <th>ltv_day7</th>\n",
       "      <th>ltv_day30</th>\n",
       "      <th>ltv_day180</th>\n",
       "    </tr>\n",
       "  </thead>\n",
       "  <tbody>\n",
       "    <tr>\n",
       "      <th>0</th>\n",
       "      <td>u000000</td>\n",
       "      <td>Australia</td>\n",
       "      <td>Female</td>\n",
       "      <td>2024-04-08</td>\n",
       "      <td>In-App Ads</td>\n",
       "      <td>1.341458</td>\n",
       "      <td>128.150370</td>\n",
       "      <td>30.236412</td>\n",
       "      <td>65</td>\n",
       "      <td>Sports</td>\n",
       "      <td>...</td>\n",
       "      <td>173.913497</td>\n",
       "      <td>12</td>\n",
       "      <td>668</td>\n",
       "      <td>7.571228</td>\n",
       "      <td>54</td>\n",
       "      <td>131</td>\n",
       "      <td>2.500000</td>\n",
       "      <td>6.7</td>\n",
       "      <td>15.000000</td>\n",
       "      <td>40.0</td>\n",
       "    </tr>\n",
       "    <tr>\n",
       "      <th>1</th>\n",
       "      <td>u000001</td>\n",
       "      <td>France</td>\n",
       "      <td>Other</td>\n",
       "      <td>2023-09-28</td>\n",
       "      <td>In-App Ads</td>\n",
       "      <td>1.203097</td>\n",
       "      <td>34.064418</td>\n",
       "      <td>9.079346</td>\n",
       "      <td>97</td>\n",
       "      <td>Puzzle</td>\n",
       "      <td>...</td>\n",
       "      <td>85.865826</td>\n",
       "      <td>8</td>\n",
       "      <td>794</td>\n",
       "      <td>7.062567</td>\n",
       "      <td>22</td>\n",
       "      <td>336</td>\n",
       "      <td>2.500000</td>\n",
       "      <td>6.7</td>\n",
       "      <td>15.000000</td>\n",
       "      <td>40.0</td>\n",
       "    </tr>\n",
       "    <tr>\n",
       "      <th>2</th>\n",
       "      <td>u000002</td>\n",
       "      <td>Brazil</td>\n",
       "      <td>Male</td>\n",
       "      <td>2024-04-24</td>\n",
       "      <td>Referral</td>\n",
       "      <td>0.395693</td>\n",
       "      <td>96.559973</td>\n",
       "      <td>31.423285</td>\n",
       "      <td>97</td>\n",
       "      <td>Puzzle</td>\n",
       "      <td>...</td>\n",
       "      <td>195.228450</td>\n",
       "      <td>13</td>\n",
       "      <td>520</td>\n",
       "      <td>4.848931</td>\n",
       "      <td>54</td>\n",
       "      <td>182</td>\n",
       "      <td>2.311357</td>\n",
       "      <td>6.7</td>\n",
       "      <td>14.578598</td>\n",
       "      <td>25.0</td>\n",
       "    </tr>\n",
       "    <tr>\n",
       "      <th>3</th>\n",
       "      <td>u000003</td>\n",
       "      <td>Australia</td>\n",
       "      <td>Female</td>\n",
       "      <td>2023-10-17</td>\n",
       "      <td>In-App Ads</td>\n",
       "      <td>0.560207</td>\n",
       "      <td>691.653864</td>\n",
       "      <td>19.581271</td>\n",
       "      <td>19</td>\n",
       "      <td>Puzzle</td>\n",
       "      <td>...</td>\n",
       "      <td>154.958251</td>\n",
       "      <td>14</td>\n",
       "      <td>720</td>\n",
       "      <td>2.716627</td>\n",
       "      <td>7</td>\n",
       "      <td>404</td>\n",
       "      <td>2.500000</td>\n",
       "      <td>6.7</td>\n",
       "      <td>15.000000</td>\n",
       "      <td>40.0</td>\n",
       "    </tr>\n",
       "    <tr>\n",
       "      <th>4</th>\n",
       "      <td>u000004</td>\n",
       "      <td>Germany</td>\n",
       "      <td>Female</td>\n",
       "      <td>2023-12-15</td>\n",
       "      <td>Email</td>\n",
       "      <td>3.318075</td>\n",
       "      <td>411.067262</td>\n",
       "      <td>19.680246</td>\n",
       "      <td>7</td>\n",
       "      <td>Action</td>\n",
       "      <td>...</td>\n",
       "      <td>81.093215</td>\n",
       "      <td>14</td>\n",
       "      <td>175</td>\n",
       "      <td>3.753371</td>\n",
       "      <td>13</td>\n",
       "      <td>66</td>\n",
       "      <td>2.194381</td>\n",
       "      <td>6.7</td>\n",
       "      <td>15.000000</td>\n",
       "      <td>25.0</td>\n",
       "    </tr>\n",
       "  </tbody>\n",
       "</table>\n",
       "<p>5 rows × 22 columns</p>\n",
       "</div>"
      ]
     },
     "execution_count": 5,
     "metadata": {},
     "output_type": "execute_result"
    }
   ],
   "execution_count": 5
  },
  {
   "metadata": {
    "ExecuteTime": {
     "end_time": "2024-11-03T12:56:40.471127Z",
     "start_time": "2024-11-03T12:56:40.458878Z"
    }
   },
   "cell_type": "code",
   "source": [
    "holdout = pd.read_feather(data_path.joinpath('holdout.feather'))\n",
    "holdout.info(verbose=True, show_counts=True)\n",
    "holdout.head()"
   ],
   "id": "38fb58345f9f4d2c",
   "outputs": [
    {
     "name": "stdout",
     "output_type": "stream",
     "text": [
      "<class 'pandas.core.frame.DataFrame'>\n",
      "RangeIndex: 3006 entries, 0 to 3005\n",
      "Data columns (total 22 columns):\n",
      " #   Column                  Non-Null Count  Dtype         \n",
      "---  ------                  --------------  -----         \n",
      " 0   user_id                 3006 non-null   object        \n",
      " 1   location                3006 non-null   object        \n",
      " 2   gender                  3006 non-null   object        \n",
      " 3   acquisition_date        3006 non-null   datetime64[ns]\n",
      " 4   acquisition_channel     3006 non-null   object        \n",
      " 5   eCPM                    3006 non-null   float64       \n",
      " 6   total_time_spent        3006 non-null   float64       \n",
      " 7   avg_session_time        3006 non-null   float64       \n",
      " 8   num_games_played        3006 non-null   int64         \n",
      " 9   favorite_game_genre     3006 non-null   object        \n",
      " 10  total_rewards           3006 non-null   int64         \n",
      " 11  total_coins             3006 non-null   int64         \n",
      " 12  cashouts                3006 non-null   float64       \n",
      " 13  logins_past_7_days      3006 non-null   int64         \n",
      " 14  total_logins            3006 non-null   int64         \n",
      " 15  avg_daily_logins        3006 non-null   float64       \n",
      " 16  notifications_received  3006 non-null   int64         \n",
      " 17  ads_watched             3006 non-null   int64         \n",
      " 18  ltv_day1                3006 non-null   float64       \n",
      " 19  ltv_day7                3006 non-null   float64       \n",
      " 20  ltv_day30               3006 non-null   float64       \n",
      " 21  ltv_day180              3006 non-null   float64       \n",
      "dtypes: datetime64[ns](1), float64(9), int64(7), object(5)\n",
      "memory usage: 516.8+ KB\n"
     ]
    },
    {
     "data": {
      "text/plain": [
       "   user_id   location  gender acquisition_date acquisition_channel      eCPM  \\\n",
       "0  u000008         UK   Other       2024-06-09             Organic  3.314625   \n",
       "1  u00000a  Australia   Other       2024-08-16            Referral  1.436349   \n",
       "2  u00000b    Germany    Male       2024-07-11             Organic  3.324685   \n",
       "3  u00000c    Germany  Female       2024-09-06        Social Media  1.884423   \n",
       "4  u00000d     Brazil    Male       2024-06-05          In-App Ads  3.542221   \n",
       "\n",
       "   total_time_spent  avg_session_time  num_games_played favorite_game_genre  \\\n",
       "0        241.654864         36.662943                 7            Strategy   \n",
       "1        197.260160         51.058547                67           Adventure   \n",
       "2        221.292736         59.881372                75              Action   \n",
       "3         69.911627         32.670693                 8           Adventure   \n",
       "4         93.525544         43.286937                90            Strategy   \n",
       "\n",
       "   ...    cashouts  logins_past_7_days  total_logins  avg_daily_logins  \\\n",
       "0  ...   64.641178                   0           238          2.147985   \n",
       "1  ...  113.004473                  13           392          7.490043   \n",
       "2  ...  123.754829                  12           995          8.996471   \n",
       "3  ...  188.125323                   3           569          6.501001   \n",
       "4  ...   27.785314                   5           712          3.789446   \n",
       "\n",
       "   notifications_received  ads_watched  ltv_day1  ltv_day7  ltv_day30  \\\n",
       "0                      11          153       2.5       6.7       15.0   \n",
       "1                      75          276       2.5       6.7       15.0   \n",
       "2                      61          275       2.5       6.7       15.0   \n",
       "3                      38           51       2.5       6.7       15.0   \n",
       "4                       8           46       2.5       6.7       15.0   \n",
       "\n",
       "   ltv_day180  \n",
       "0        40.0  \n",
       "1        40.0  \n",
       "2        40.0  \n",
       "3        40.0  \n",
       "4        40.0  \n",
       "\n",
       "[5 rows x 22 columns]"
      ],
      "text/html": [
       "<div>\n",
       "<style scoped>\n",
       "    .dataframe tbody tr th:only-of-type {\n",
       "        vertical-align: middle;\n",
       "    }\n",
       "\n",
       "    .dataframe tbody tr th {\n",
       "        vertical-align: top;\n",
       "    }\n",
       "\n",
       "    .dataframe thead th {\n",
       "        text-align: right;\n",
       "    }\n",
       "</style>\n",
       "<table border=\"1\" class=\"dataframe\">\n",
       "  <thead>\n",
       "    <tr style=\"text-align: right;\">\n",
       "      <th></th>\n",
       "      <th>user_id</th>\n",
       "      <th>location</th>\n",
       "      <th>gender</th>\n",
       "      <th>acquisition_date</th>\n",
       "      <th>acquisition_channel</th>\n",
       "      <th>eCPM</th>\n",
       "      <th>total_time_spent</th>\n",
       "      <th>avg_session_time</th>\n",
       "      <th>num_games_played</th>\n",
       "      <th>favorite_game_genre</th>\n",
       "      <th>...</th>\n",
       "      <th>cashouts</th>\n",
       "      <th>logins_past_7_days</th>\n",
       "      <th>total_logins</th>\n",
       "      <th>avg_daily_logins</th>\n",
       "      <th>notifications_received</th>\n",
       "      <th>ads_watched</th>\n",
       "      <th>ltv_day1</th>\n",
       "      <th>ltv_day7</th>\n",
       "      <th>ltv_day30</th>\n",
       "      <th>ltv_day180</th>\n",
       "    </tr>\n",
       "  </thead>\n",
       "  <tbody>\n",
       "    <tr>\n",
       "      <th>0</th>\n",
       "      <td>u000008</td>\n",
       "      <td>UK</td>\n",
       "      <td>Other</td>\n",
       "      <td>2024-06-09</td>\n",
       "      <td>Organic</td>\n",
       "      <td>3.314625</td>\n",
       "      <td>241.654864</td>\n",
       "      <td>36.662943</td>\n",
       "      <td>7</td>\n",
       "      <td>Strategy</td>\n",
       "      <td>...</td>\n",
       "      <td>64.641178</td>\n",
       "      <td>0</td>\n",
       "      <td>238</td>\n",
       "      <td>2.147985</td>\n",
       "      <td>11</td>\n",
       "      <td>153</td>\n",
       "      <td>2.5</td>\n",
       "      <td>6.7</td>\n",
       "      <td>15.0</td>\n",
       "      <td>40.0</td>\n",
       "    </tr>\n",
       "    <tr>\n",
       "      <th>1</th>\n",
       "      <td>u00000a</td>\n",
       "      <td>Australia</td>\n",
       "      <td>Other</td>\n",
       "      <td>2024-08-16</td>\n",
       "      <td>Referral</td>\n",
       "      <td>1.436349</td>\n",
       "      <td>197.260160</td>\n",
       "      <td>51.058547</td>\n",
       "      <td>67</td>\n",
       "      <td>Adventure</td>\n",
       "      <td>...</td>\n",
       "      <td>113.004473</td>\n",
       "      <td>13</td>\n",
       "      <td>392</td>\n",
       "      <td>7.490043</td>\n",
       "      <td>75</td>\n",
       "      <td>276</td>\n",
       "      <td>2.5</td>\n",
       "      <td>6.7</td>\n",
       "      <td>15.0</td>\n",
       "      <td>40.0</td>\n",
       "    </tr>\n",
       "    <tr>\n",
       "      <th>2</th>\n",
       "      <td>u00000b</td>\n",
       "      <td>Germany</td>\n",
       "      <td>Male</td>\n",
       "      <td>2024-07-11</td>\n",
       "      <td>Organic</td>\n",
       "      <td>3.324685</td>\n",
       "      <td>221.292736</td>\n",
       "      <td>59.881372</td>\n",
       "      <td>75</td>\n",
       "      <td>Action</td>\n",
       "      <td>...</td>\n",
       "      <td>123.754829</td>\n",
       "      <td>12</td>\n",
       "      <td>995</td>\n",
       "      <td>8.996471</td>\n",
       "      <td>61</td>\n",
       "      <td>275</td>\n",
       "      <td>2.5</td>\n",
       "      <td>6.7</td>\n",
       "      <td>15.0</td>\n",
       "      <td>40.0</td>\n",
       "    </tr>\n",
       "    <tr>\n",
       "      <th>3</th>\n",
       "      <td>u00000c</td>\n",
       "      <td>Germany</td>\n",
       "      <td>Female</td>\n",
       "      <td>2024-09-06</td>\n",
       "      <td>Social Media</td>\n",
       "      <td>1.884423</td>\n",
       "      <td>69.911627</td>\n",
       "      <td>32.670693</td>\n",
       "      <td>8</td>\n",
       "      <td>Adventure</td>\n",
       "      <td>...</td>\n",
       "      <td>188.125323</td>\n",
       "      <td>3</td>\n",
       "      <td>569</td>\n",
       "      <td>6.501001</td>\n",
       "      <td>38</td>\n",
       "      <td>51</td>\n",
       "      <td>2.5</td>\n",
       "      <td>6.7</td>\n",
       "      <td>15.0</td>\n",
       "      <td>40.0</td>\n",
       "    </tr>\n",
       "    <tr>\n",
       "      <th>4</th>\n",
       "      <td>u00000d</td>\n",
       "      <td>Brazil</td>\n",
       "      <td>Male</td>\n",
       "      <td>2024-06-05</td>\n",
       "      <td>In-App Ads</td>\n",
       "      <td>3.542221</td>\n",
       "      <td>93.525544</td>\n",
       "      <td>43.286937</td>\n",
       "      <td>90</td>\n",
       "      <td>Strategy</td>\n",
       "      <td>...</td>\n",
       "      <td>27.785314</td>\n",
       "      <td>5</td>\n",
       "      <td>712</td>\n",
       "      <td>3.789446</td>\n",
       "      <td>8</td>\n",
       "      <td>46</td>\n",
       "      <td>2.5</td>\n",
       "      <td>6.7</td>\n",
       "      <td>15.0</td>\n",
       "      <td>40.0</td>\n",
       "    </tr>\n",
       "  </tbody>\n",
       "</table>\n",
       "<p>5 rows × 22 columns</p>\n",
       "</div>"
      ]
     },
     "execution_count": 6,
     "metadata": {},
     "output_type": "execute_result"
    }
   ],
   "execution_count": 6
  },
  {
   "metadata": {},
   "cell_type": "markdown",
   "source": "# Model",
   "id": "849799ca4e8287e5"
  },
  {
   "metadata": {
    "ExecuteTime": {
     "end_time": "2024-11-03T12:56:40.609919Z",
     "start_time": "2024-11-03T12:56:40.606973Z"
    }
   },
   "cell_type": "code",
   "source": [
    "@dataclass(slots=True)\n",
    "class MedianModel(Model):\n",
    "    name: str = 'median_model'\n",
    "    \n",
    "    medians: Dict[str, float] = field(default_factory=dict)\n",
    "    \n",
    "    def fit(self, df: pd.DataFrame) -> \"MedianModel\":\n",
    "        self.medians = df[targets].median().to_dict()\n",
    "        return self\n",
    "    \n",
    "    def predict(self, X: pd.DataFrame, target_name: str) -> pd.Series:\n",
    "        return pd.Series(\n",
    "            self.medians[target_name],\n",
    "            index=X.index,\n",
    "            name=target_name,\n",
    "        )\n",
    "    \n",
    "    def get_params(self) -> Dict[str, Any]:\n",
    "        return self.medians"
   ],
   "id": "1df91ab19debc7f0",
   "outputs": [],
   "execution_count": 7
  },
  {
   "metadata": {
    "ExecuteTime": {
     "end_time": "2024-11-03T12:56:40.675894Z",
     "start_time": "2024-11-03T12:56:40.672795Z"
    }
   },
   "cell_type": "code",
   "source": [
    "model = MedianModel().fit(train)\n",
    "model"
   ],
   "id": "b7c9b8d8f12b2e5e",
   "outputs": [
    {
     "data": {
      "text/plain": [
       "MedianModel(name='avg_model', medians={'ltv_day1': 2.3468810063212753, 'ltv_day7': 6.413217600618959, 'ltv_day30': 14.420333602156134, 'ltv_day180': 34.13457203148127})"
      ]
     },
     "execution_count": 8,
     "metadata": {},
     "output_type": "execute_result"
    }
   ],
   "execution_count": 8
  },
  {
   "metadata": {},
   "cell_type": "markdown",
   "source": "# Validate",
   "id": "d16589be85a0eab3"
  },
  {
   "metadata": {
    "ExecuteTime": {
     "end_time": "2024-11-03T12:56:40.797511Z",
     "start_time": "2024-11-03T12:56:40.795540Z"
    }
   },
   "cell_type": "code",
   "source": "validator = Validator(train, holdout)",
   "id": "a51a66c9ba81833a",
   "outputs": [],
   "execution_count": 9
  },
  {
   "metadata": {
    "ExecuteTime": {
     "end_time": "2024-11-03T12:56:55.895897Z",
     "start_time": "2024-11-03T12:56:40.869565Z"
    }
   },
   "cell_type": "code",
   "source": "validator.log_metrics(model)",
   "id": "83abda1860bcc5bc",
   "outputs": [
    {
     "name": "stderr",
     "output_type": "stream",
     "text": [
      "INFO:pltv.src.validate:avg_model ltv_day1 metrics: {'train/rmse': np.float64(0.320559159885134), 'holdout/rmse': np.float64(0.31602825204750157), 'train/mae': np.float64(0.23754803879693492), 'holdout/mae': np.float64(0.2337043957604034), 'train/wape': np.float64(0.10121861234425784), 'holdout/wape': np.float64(0.09934513849499474)}\n",
      "\u001B[34m\u001B[1mwandb\u001B[0m: Using wandb-core as the SDK backend. Please refer to https://wandb.me/wandb-core for more information.\n",
      "\u001B[34m\u001B[1mwandb\u001B[0m: Currently logged in as: \u001B[33maapiskotin-ge\u001B[0m (\u001B[33mjustplay-case\u001B[0m). Use \u001B[1m`wandb login --relogin`\u001B[0m to force relogin\n"
     ]
    },
    {
     "data": {
      "text/plain": [
       "<IPython.core.display.HTML object>"
      ],
      "text/html": [
       "Tracking run with wandb version 0.18.5"
      ]
     },
     "metadata": {},
     "output_type": "display_data"
    },
    {
     "data": {
      "text/plain": [
       "<IPython.core.display.HTML object>"
      ],
      "text/html": [
       "Run data is saved locally in <code>/Users/aapiskotin/projects/just_play_case/pltv/src/wandb/run-20241103_165641-ohyybvgg</code>"
      ]
     },
     "metadata": {},
     "output_type": "display_data"
    },
    {
     "data": {
      "text/plain": [
       "<IPython.core.display.HTML object>"
      ],
      "text/html": [
       "Syncing run <strong><a href='https://wandb.ai/justplay-case/justplay-pltv/runs/ohyybvgg' target=\"_blank\">avg_model</a></strong> to <a href='https://wandb.ai/justplay-case/justplay-pltv' target=\"_blank\">Weights & Biases</a> (<a href='https://wandb.me/run' target=\"_blank\">docs</a>)<br/>"
      ]
     },
     "metadata": {},
     "output_type": "display_data"
    },
    {
     "data": {
      "text/plain": [
       "<IPython.core.display.HTML object>"
      ],
      "text/html": [
       " View project at <a href='https://wandb.ai/justplay-case/justplay-pltv' target=\"_blank\">https://wandb.ai/justplay-case/justplay-pltv</a>"
      ]
     },
     "metadata": {},
     "output_type": "display_data"
    },
    {
     "data": {
      "text/plain": [
       "<IPython.core.display.HTML object>"
      ],
      "text/html": [
       " View run at <a href='https://wandb.ai/justplay-case/justplay-pltv/runs/ohyybvgg' target=\"_blank\">https://wandb.ai/justplay-case/justplay-pltv/runs/ohyybvgg</a>"
      ]
     },
     "metadata": {},
     "output_type": "display_data"
    },
    {
     "data": {
      "text/plain": [
       "<IPython.core.display.HTML object>"
      ],
      "text/html": [
       " View run <strong style=\"color:#cdcd00\">avg_model</strong> at: <a href='https://wandb.ai/justplay-case/justplay-pltv/runs/ohyybvgg' target=\"_blank\">https://wandb.ai/justplay-case/justplay-pltv/runs/ohyybvgg</a><br/> View project at: <a href='https://wandb.ai/justplay-case/justplay-pltv' target=\"_blank\">https://wandb.ai/justplay-case/justplay-pltv</a><br/>Synced 5 W&B file(s), 0 media file(s), 0 artifact file(s) and 0 other file(s)"
      ]
     },
     "metadata": {},
     "output_type": "display_data"
    },
    {
     "name": "stderr",
     "output_type": "stream",
     "text": [
      "INFO:pltv.src.validate:avg_model ltv_day7 metrics: {'train/rmse': np.float64(0.6787742209520423), 'holdout/rmse': np.float64(0.6702245313668678), 'train/mae': np.float64(0.4699896753790561), 'holdout/mae': np.float64(0.4651857956821079), 'train/wape': np.float64(0.0732845358831573), 'holdout/wape': np.float64(0.07243338119095376)}\n"
     ]
    },
    {
     "data": {
      "text/plain": [
       "<IPython.core.display.HTML object>"
      ],
      "text/html": [
       "Tracking run with wandb version 0.18.5"
      ]
     },
     "metadata": {},
     "output_type": "display_data"
    },
    {
     "data": {
      "text/plain": [
       "<IPython.core.display.HTML object>"
      ],
      "text/html": [
       "Run data is saved locally in <code>/Users/aapiskotin/projects/just_play_case/pltv/src/wandb/run-20241103_165645-vk9bzpzv</code>"
      ]
     },
     "metadata": {},
     "output_type": "display_data"
    },
    {
     "data": {
      "text/plain": [
       "<IPython.core.display.HTML object>"
      ],
      "text/html": [
       "Syncing run <strong><a href='https://wandb.ai/justplay-case/justplay-pltv/runs/vk9bzpzv' target=\"_blank\">avg_model</a></strong> to <a href='https://wandb.ai/justplay-case/justplay-pltv' target=\"_blank\">Weights & Biases</a> (<a href='https://wandb.me/run' target=\"_blank\">docs</a>)<br/>"
      ]
     },
     "metadata": {},
     "output_type": "display_data"
    },
    {
     "data": {
      "text/plain": [
       "<IPython.core.display.HTML object>"
      ],
      "text/html": [
       " View project at <a href='https://wandb.ai/justplay-case/justplay-pltv' target=\"_blank\">https://wandb.ai/justplay-case/justplay-pltv</a>"
      ]
     },
     "metadata": {},
     "output_type": "display_data"
    },
    {
     "data": {
      "text/plain": [
       "<IPython.core.display.HTML object>"
      ],
      "text/html": [
       " View run at <a href='https://wandb.ai/justplay-case/justplay-pltv/runs/vk9bzpzv' target=\"_blank\">https://wandb.ai/justplay-case/justplay-pltv/runs/vk9bzpzv</a>"
      ]
     },
     "metadata": {},
     "output_type": "display_data"
    },
    {
     "data": {
      "text/plain": [
       "<IPython.core.display.HTML object>"
      ],
      "text/html": [
       " View run <strong style=\"color:#cdcd00\">avg_model</strong> at: <a href='https://wandb.ai/justplay-case/justplay-pltv/runs/vk9bzpzv' target=\"_blank\">https://wandb.ai/justplay-case/justplay-pltv/runs/vk9bzpzv</a><br/> View project at: <a href='https://wandb.ai/justplay-case/justplay-pltv' target=\"_blank\">https://wandb.ai/justplay-case/justplay-pltv</a><br/>Synced 5 W&B file(s), 0 media file(s), 0 artifact file(s) and 0 other file(s)"
      ]
     },
     "metadata": {},
     "output_type": "display_data"
    },
    {
     "name": "stderr",
     "output_type": "stream",
     "text": [
      "INFO:pltv.src.validate:avg_model ltv_day30 metrics: {'train/rmse': np.float64(1.12412351810831), 'holdout/rmse': np.float64(1.1083423047688106), 'train/mae': np.float64(0.8917486947961129), 'holdout/mae': np.float64(0.8786912623566866), 'train/wape': np.float64(0.06183967163303201), 'holdout/wape': np.float64(0.060832739833067806)}\n"
     ]
    },
    {
     "data": {
      "text/plain": [
       "<IPython.core.display.HTML object>"
      ],
      "text/html": [
       "Tracking run with wandb version 0.18.5"
      ]
     },
     "metadata": {},
     "output_type": "display_data"
    },
    {
     "data": {
      "text/plain": [
       "<IPython.core.display.HTML object>"
      ],
      "text/html": [
       "Run data is saved locally in <code>/Users/aapiskotin/projects/just_play_case/pltv/src/wandb/run-20241103_165648-5rormgoq</code>"
      ]
     },
     "metadata": {},
     "output_type": "display_data"
    },
    {
     "data": {
      "text/plain": [
       "<IPython.core.display.HTML object>"
      ],
      "text/html": [
       "Syncing run <strong><a href='https://wandb.ai/justplay-case/justplay-pltv/runs/5rormgoq' target=\"_blank\">avg_model</a></strong> to <a href='https://wandb.ai/justplay-case/justplay-pltv' target=\"_blank\">Weights & Biases</a> (<a href='https://wandb.me/run' target=\"_blank\">docs</a>)<br/>"
      ]
     },
     "metadata": {},
     "output_type": "display_data"
    },
    {
     "data": {
      "text/plain": [
       "<IPython.core.display.HTML object>"
      ],
      "text/html": [
       " View project at <a href='https://wandb.ai/justplay-case/justplay-pltv' target=\"_blank\">https://wandb.ai/justplay-case/justplay-pltv</a>"
      ]
     },
     "metadata": {},
     "output_type": "display_data"
    },
    {
     "data": {
      "text/plain": [
       "<IPython.core.display.HTML object>"
      ],
      "text/html": [
       " View run at <a href='https://wandb.ai/justplay-case/justplay-pltv/runs/5rormgoq' target=\"_blank\">https://wandb.ai/justplay-case/justplay-pltv/runs/5rormgoq</a>"
      ]
     },
     "metadata": {},
     "output_type": "display_data"
    },
    {
     "data": {
      "text/plain": [
       "<IPython.core.display.HTML object>"
      ],
      "text/html": [
       " View run <strong style=\"color:#cdcd00\">avg_model</strong> at: <a href='https://wandb.ai/justplay-case/justplay-pltv/runs/5rormgoq' target=\"_blank\">https://wandb.ai/justplay-case/justplay-pltv/runs/5rormgoq</a><br/> View project at: <a href='https://wandb.ai/justplay-case/justplay-pltv' target=\"_blank\">https://wandb.ai/justplay-case/justplay-pltv</a><br/>Synced 5 W&B file(s), 0 media file(s), 0 artifact file(s) and 0 other file(s)"
      ]
     },
     "metadata": {},
     "output_type": "display_data"
    },
    {
     "name": "stderr",
     "output_type": "stream",
     "text": [
      "INFO:pltv.src.validate:avg_model ltv_day180 metrics: {'train/rmse': np.float64(6.470518995886934), 'holdout/rmse': np.float64(6.44496398363376), 'train/mae': np.float64(6.026562757903527), 'holdout/mae': np.float64(6.006481423985642), 'train/wape': np.float64(0.176553048690501), 'holdout/wape': np.float64(0.1754211085726308)}\n"
     ]
    },
    {
     "data": {
      "text/plain": [
       "<IPython.core.display.HTML object>"
      ],
      "text/html": [
       "Tracking run with wandb version 0.18.5"
      ]
     },
     "metadata": {},
     "output_type": "display_data"
    },
    {
     "data": {
      "text/plain": [
       "<IPython.core.display.HTML object>"
      ],
      "text/html": [
       "Run data is saved locally in <code>/Users/aapiskotin/projects/just_play_case/pltv/src/wandb/run-20241103_165652-fyt4ydxg</code>"
      ]
     },
     "metadata": {},
     "output_type": "display_data"
    },
    {
     "data": {
      "text/plain": [
       "<IPython.core.display.HTML object>"
      ],
      "text/html": [
       "Syncing run <strong><a href='https://wandb.ai/justplay-case/justplay-pltv/runs/fyt4ydxg' target=\"_blank\">avg_model</a></strong> to <a href='https://wandb.ai/justplay-case/justplay-pltv' target=\"_blank\">Weights & Biases</a> (<a href='https://wandb.me/run' target=\"_blank\">docs</a>)<br/>"
      ]
     },
     "metadata": {},
     "output_type": "display_data"
    },
    {
     "data": {
      "text/plain": [
       "<IPython.core.display.HTML object>"
      ],
      "text/html": [
       " View project at <a href='https://wandb.ai/justplay-case/justplay-pltv' target=\"_blank\">https://wandb.ai/justplay-case/justplay-pltv</a>"
      ]
     },
     "metadata": {},
     "output_type": "display_data"
    },
    {
     "data": {
      "text/plain": [
       "<IPython.core.display.HTML object>"
      ],
      "text/html": [
       " View run at <a href='https://wandb.ai/justplay-case/justplay-pltv/runs/fyt4ydxg' target=\"_blank\">https://wandb.ai/justplay-case/justplay-pltv/runs/fyt4ydxg</a>"
      ]
     },
     "metadata": {},
     "output_type": "display_data"
    },
    {
     "data": {
      "text/plain": [
       "<IPython.core.display.HTML object>"
      ],
      "text/html": [
       " View run <strong style=\"color:#cdcd00\">avg_model</strong> at: <a href='https://wandb.ai/justplay-case/justplay-pltv/runs/fyt4ydxg' target=\"_blank\">https://wandb.ai/justplay-case/justplay-pltv/runs/fyt4ydxg</a><br/> View project at: <a href='https://wandb.ai/justplay-case/justplay-pltv' target=\"_blank\">https://wandb.ai/justplay-case/justplay-pltv</a><br/>Synced 5 W&B file(s), 0 media file(s), 0 artifact file(s) and 0 other file(s)"
      ]
     },
     "metadata": {},
     "output_type": "display_data"
    }
   ],
   "execution_count": 10
  },
  {
   "metadata": {
    "ExecuteTime": {
     "end_time": "2024-11-03T12:56:55.956170Z",
     "start_time": "2024-11-03T12:56:55.954620Z"
    }
   },
   "cell_type": "code",
   "source": "",
   "id": "985de84bd536c757",
   "outputs": [],
   "execution_count": null
  },
  {
   "cell_type": "code",
   "id": "initial_id",
   "metadata": {
    "collapsed": true,
    "ExecuteTime": {
     "end_time": "2024-11-03T12:56:55.980430Z",
     "start_time": "2024-11-03T12:56:55.978946Z"
    }
   },
   "source": [
    ""
   ],
   "outputs": [],
   "execution_count": null
  }
 ],
 "metadata": {
  "kernelspec": {
   "display_name": "Python 3",
   "language": "python",
   "name": "python3"
  },
  "language_info": {
   "codemirror_mode": {
    "name": "ipython",
    "version": 2
   },
   "file_extension": ".py",
   "mimetype": "text/x-python",
   "name": "python",
   "nbconvert_exporter": "python",
   "pygments_lexer": "ipython2",
   "version": "2.7.6"
  }
 },
 "nbformat": 4,
 "nbformat_minor": 5
}
